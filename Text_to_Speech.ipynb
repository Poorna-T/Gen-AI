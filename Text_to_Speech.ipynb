{
  "nbformat": 4,
  "nbformat_minor": 0,
  "metadata": {
    "colab": {
      "provenance": [],
      "authorship_tag": "ABX9TyPy133UHxmFH9U5/3M87xsp",
      "include_colab_link": true
    },
    "kernelspec": {
      "name": "python3",
      "display_name": "Python 3"
    },
    "language_info": {
      "name": "python"
    }
  },
  "cells": [
    {
      "cell_type": "markdown",
      "metadata": {
        "id": "view-in-github",
        "colab_type": "text"
      },
      "source": [
        "<a href=\"https://colab.research.google.com/github/Poorna-T/Gen-AI/blob/main/Text_to_Speech.ipynb\" target=\"_parent\"><img src=\"https://colab.research.google.com/assets/colab-badge.svg\" alt=\"Open In Colab\"/></a>"
      ]
    },
    {
      "cell_type": "code",
      "execution_count": null,
      "metadata": {
        "id": "8QX0tSo33Nsq"
      },
      "outputs": [],
      "source": [
        "# Install required libraries\n",
        "!pip install gradio transformers torch gtts --quiet\n",
        "\n",
        "# Import necessary libraries\n",
        "import gradio as gr\n",
        "from transformers import pipeline\n",
        "from gtts import gTTS\n",
        "import os\n",
        "\n",
        "# Define translation models for South Indian languages\n",
        "translation_models = {\n",
        "    \"English to Tamil\": \"Helsinki-NLP/opus-mt-en-ta\",\n",
        "    \"English to Telugu\": \"Helsinki-NLP/opus-mt-en-te\",\n",
        "    \"English to Kannada\": \"Helsinki-NLP/opus-mt-en-kn\",\n",
        "    \"English to Malayalam\": \"Helsinki-NLP/opus-mt-en-ml\"\n",
        "}\n",
        "\n",
        "# Function to translate text and generate speech\n",
        "def translate_text(text, language):\n",
        "    model_name = translation_models[language]\n",
        "    translator = pipeline(\"translation\", model=model_name)\n",
        "    translated_text = translator(text)[0][\"translation_text\"]\n",
        "\n",
        "    # Determine language code for TTS\n",
        "    tts_lang = (\n",
        "        \"ta\" if \"Tamil\" in language else\n",
        "        \"te\" if \"Telugu\" in language else\n",
        "        \"kn\" if \"Kannada\" in language else\n",
        "        \"ml\"  # Malayalam\n",
        "    )\n",
        "\n",
        "    # Generate speech from translated text\n",
        "    tts = gTTS(translated_text, lang=tts_lang)\n",
        "    audio_path = \"translated_speech.mp3\"\n",
        "    tts.save(audio_path)\n",
        "\n",
        "    return translated_text, audio_path\n",
        "\n",
        "# Create a Gradio interface with dropdown for language selection\n",
        "iface = gr.Interface(\n",
        "    fn=translate_text,\n",
        "    inputs=[\n",
        "        gr.Textbox(lines=3, placeholder=\"Enter text in English...\"),\n",
        "        gr.Dropdown(choices=list(translation_models.keys()), label=\"Select Target Language\")\n",
        "    ],\n",
        "    outputs=[\n",
        "        gr.Textbox(label=\"Translated Text\"),\n",
        "        gr.Audio(label=\"Text-to-Speech Output\")\n",
        "    ],\n",
        "    title=\"South Indian Language Translator + TTS\",\n",
        "    description=\"Enter text in English, select a South Indian language, and get the translated text with speech output.\"\n",
        ")\n",
        "\n",
        "# Launch the interface\n",
        "iface.launch(share=True)\n",
        "```\n",
        "\n",
        "Let me know if you’d like to enhance it — for example, by adding support for input in other languages, changing voices, or using faster TTS engines like `pyttsx3` for offline use!"
      ]
    }
  ]
}